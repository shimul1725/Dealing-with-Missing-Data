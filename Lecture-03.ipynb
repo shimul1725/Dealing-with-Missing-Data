{
 "cells": [
  {
   "cell_type": "code",
   "execution_count": 19,
   "id": "ee47212d",
   "metadata": {},
   "outputs": [],
   "source": [
    "import numpy as np\n",
    "import matplotlib.pyplot as plt\n",
    "import pandas as pd"
   ]
  },
  {
   "cell_type": "code",
   "execution_count": 20,
   "id": "5f494a79",
   "metadata": {},
   "outputs": [],
   "source": [
    "dataset = pd.read_csv('data/mini_data.csv')"
   ]
  },
  {
   "cell_type": "code",
   "execution_count": 21,
   "id": "897fff8f",
   "metadata": {},
   "outputs": [
    {
     "data": {
      "text/html": [
       "<div>\n",
       "<style scoped>\n",
       "    .dataframe tbody tr th:only-of-type {\n",
       "        vertical-align: middle;\n",
       "    }\n",
       "\n",
       "    .dataframe tbody tr th {\n",
       "        vertical-align: top;\n",
       "    }\n",
       "\n",
       "    .dataframe thead th {\n",
       "        text-align: right;\n",
       "    }\n",
       "</style>\n",
       "<table border=\"1\" class=\"dataframe\">\n",
       "  <thead>\n",
       "    <tr style=\"text-align: right;\">\n",
       "      <th></th>\n",
       "      <th>Profession</th>\n",
       "      <th>Age</th>\n",
       "      <th>Salary</th>\n",
       "      <th>Purchased</th>\n",
       "    </tr>\n",
       "  </thead>\n",
       "  <tbody>\n",
       "    <tr>\n",
       "      <th>0</th>\n",
       "      <td>Doctor</td>\n",
       "      <td>44.0</td>\n",
       "      <td>72000.0</td>\n",
       "      <td>No</td>\n",
       "    </tr>\n",
       "    <tr>\n",
       "      <th>1</th>\n",
       "      <td>Lawyer</td>\n",
       "      <td>27.0</td>\n",
       "      <td>48000.0</td>\n",
       "      <td>Yes</td>\n",
       "    </tr>\n",
       "    <tr>\n",
       "      <th>2</th>\n",
       "      <td>Banker</td>\n",
       "      <td>30.0</td>\n",
       "      <td>54000.0</td>\n",
       "      <td>No</td>\n",
       "    </tr>\n",
       "    <tr>\n",
       "      <th>3</th>\n",
       "      <td>Lawyer</td>\n",
       "      <td>38.0</td>\n",
       "      <td>61000.0</td>\n",
       "      <td>No</td>\n",
       "    </tr>\n",
       "    <tr>\n",
       "      <th>4</th>\n",
       "      <td>Banker</td>\n",
       "      <td>40.0</td>\n",
       "      <td>NaN</td>\n",
       "      <td>Yes</td>\n",
       "    </tr>\n",
       "    <tr>\n",
       "      <th>5</th>\n",
       "      <td>Doctor</td>\n",
       "      <td>35.0</td>\n",
       "      <td>58000.0</td>\n",
       "      <td>Yes</td>\n",
       "    </tr>\n",
       "    <tr>\n",
       "      <th>6</th>\n",
       "      <td>Lawyer</td>\n",
       "      <td>NaN</td>\n",
       "      <td>52000.0</td>\n",
       "      <td>No</td>\n",
       "    </tr>\n",
       "    <tr>\n",
       "      <th>7</th>\n",
       "      <td>Doctor</td>\n",
       "      <td>48.0</td>\n",
       "      <td>79000.0</td>\n",
       "      <td>Yes</td>\n",
       "    </tr>\n",
       "    <tr>\n",
       "      <th>8</th>\n",
       "      <td>Banker</td>\n",
       "      <td>50.0</td>\n",
       "      <td>83000.0</td>\n",
       "      <td>No</td>\n",
       "    </tr>\n",
       "    <tr>\n",
       "      <th>9</th>\n",
       "      <td>Doctor</td>\n",
       "      <td>37.0</td>\n",
       "      <td>67000.0</td>\n",
       "      <td>Yes</td>\n",
       "    </tr>\n",
       "  </tbody>\n",
       "</table>\n",
       "</div>"
      ],
      "text/plain": [
       "  Profession   Age   Salary Purchased\n",
       "0     Doctor  44.0  72000.0        No\n",
       "1     Lawyer  27.0  48000.0       Yes\n",
       "2     Banker  30.0  54000.0        No\n",
       "3     Lawyer  38.0  61000.0        No\n",
       "4     Banker  40.0      NaN       Yes\n",
       "5     Doctor  35.0  58000.0       Yes\n",
       "6     Lawyer   NaN  52000.0        No\n",
       "7     Doctor  48.0  79000.0       Yes\n",
       "8     Banker  50.0  83000.0        No\n",
       "9     Doctor  37.0  67000.0       Yes"
      ]
     },
     "execution_count": 21,
     "metadata": {},
     "output_type": "execute_result"
    }
   ],
   "source": [
    "dataset"
   ]
  },
  {
   "cell_type": "code",
   "execution_count": 22,
   "id": "26671f9f",
   "metadata": {},
   "outputs": [],
   "source": [
    "#X = dataset.iloc[:, 0:3]\n",
    "#X = dataset.iloc[:, :3]\n",
    "#X = dataset.iloc[1:6, :-1]\n",
    "X = dataset.iloc[:, 0:3]"
   ]
  },
  {
   "cell_type": "code",
   "execution_count": 23,
   "id": "612b5458",
   "metadata": {
    "scrolled": true
   },
   "outputs": [
    {
     "name": "stdout",
     "output_type": "stream",
     "text": [
      "  Profession   Age   Salary\n",
      "0     Doctor  44.0  72000.0\n",
      "1     Lawyer  27.0  48000.0\n",
      "2     Banker  30.0  54000.0\n",
      "3     Lawyer  38.0  61000.0\n",
      "4     Banker  40.0      NaN\n",
      "5     Doctor  35.0  58000.0\n",
      "6     Lawyer   NaN  52000.0\n",
      "7     Doctor  48.0  79000.0\n",
      "8     Banker  50.0  83000.0\n",
      "9     Doctor  37.0  67000.0\n"
     ]
    }
   ],
   "source": [
    "print(X)"
   ]
  },
  {
   "cell_type": "code",
   "execution_count": 24,
   "id": "0d6dc5b5",
   "metadata": {},
   "outputs": [],
   "source": [
    "Y = dataset.iloc[:, 3].values\n",
    "#Y = dataset.iloc[:, -1].values"
   ]
  },
  {
   "cell_type": "code",
   "execution_count": 25,
   "id": "75e35a8b",
   "metadata": {},
   "outputs": [
    {
     "name": "stdout",
     "output_type": "stream",
     "text": [
      "['No' 'Yes' 'No' 'No' 'Yes' 'Yes' 'No' 'Yes' 'No' 'Yes']\n"
     ]
    }
   ],
   "source": [
    "print(Y)"
   ]
  },
  {
   "cell_type": "code",
   "execution_count": 26,
   "id": "08b6358f",
   "metadata": {},
   "outputs": [],
   "source": [
    "#from sklearn.impute import SimpleImputer"
   ]
  },
  {
   "cell_type": "code",
   "execution_count": 27,
   "id": "d7eb103f",
   "metadata": {},
   "outputs": [],
   "source": [
    "#imputer = SimpleImputer(missing_values = np.nan, strategy ='mean')"
   ]
  },
  {
   "cell_type": "code",
   "execution_count": 28,
   "id": "a53403a6",
   "metadata": {},
   "outputs": [],
   "source": [
    "#fitting = imputer.fit(X.loc[ : , 1:3 ])\n",
    "from sklearn.impute import SimpleImputer\n",
    "\n",
    "# Assuming X is your Pandas DataFrame\n",
    "# Replace 'ColumnName1' and 'ColumnName2' with the actual column names you want to impute\n",
    "columns_to_impute = ['Age', 'Salary']\n",
    "\n",
    "imputer = SimpleImputer(strategy='mean')  # You can use other strategies as well\n",
    "\n",
    "# Use loc to select rows and columns by labels\n",
    "fitting = imputer.fit(X.loc[:, columns_to_impute])\n",
    "X.loc[:, columns_to_impute] = fitting.transform(X.loc[:, columns_to_impute])\n"
   ]
  },
  {
   "cell_type": "code",
   "execution_count": 29,
   "id": "0e287626",
   "metadata": {},
   "outputs": [
    {
     "name": "stdout",
     "output_type": "stream",
     "text": [
      "  Profession        Age        Salary\n",
      "0     Doctor  44.000000  72000.000000\n",
      "1     Lawyer  27.000000  48000.000000\n",
      "2     Banker  30.000000  54000.000000\n",
      "3     Lawyer  38.000000  61000.000000\n",
      "4     Banker  40.000000  63777.777778\n",
      "5     Doctor  35.000000  58000.000000\n",
      "6     Lawyer  38.777778  52000.000000\n",
      "7     Doctor  48.000000  79000.000000\n",
      "8     Banker  50.000000  83000.000000\n",
      "9     Doctor  37.000000  67000.000000\n"
     ]
    }
   ],
   "source": [
    "print(X)"
   ]
  },
  {
   "cell_type": "code",
   "execution_count": null,
   "id": "b7438253",
   "metadata": {},
   "outputs": [],
   "source": []
  }
 ],
 "metadata": {
  "kernelspec": {
   "display_name": "Python 3 (ipykernel)",
   "language": "python",
   "name": "python3"
  },
  "language_info": {
   "codemirror_mode": {
    "name": "ipython",
    "version": 3
   },
   "file_extension": ".py",
   "mimetype": "text/x-python",
   "name": "python",
   "nbconvert_exporter": "python",
   "pygments_lexer": "ipython3",
   "version": "3.11.5"
  }
 },
 "nbformat": 4,
 "nbformat_minor": 5
}
